{
 "cells": [
  {
   "cell_type": "code",
   "execution_count": 30,
   "metadata": {
    "collapsed": true
   },
   "outputs": [],
   "source": [
    "%matplotlib inline\n",
    "import pandas as pd\n",
    "import seaborn as sbn"
   ]
  },
  {
   "cell_type": "code",
   "execution_count": 1,
   "metadata": {
    "collapsed": true
   },
   "outputs": [],
   "source": [
    "from bs4 import BeautifulSoup\n",
    "import requests\n",
    "import csv"
   ]
  },
  {
   "cell_type": "code",
   "execution_count": 2,
   "metadata": {
    "collapsed": true
   },
   "outputs": [],
   "source": [
    "t=requests.get(\"http://www.the-numbers.com/movie/records/All-Time-Domestic-Box-Office\")"
   ]
  },
  {
   "cell_type": "code",
   "execution_count": 46,
   "metadata": {
    "collapsed": false
   },
   "outputs": [
    {
     "name": "stderr",
     "output_type": "stream",
     "text": [
      "/usr/local/lib/python3.5/site-packages/bs4/__init__.py:166: UserWarning: No parser was explicitly specified, so I'm using the best available HTML parser for this system (\"lxml\"). This usually isn't a problem, but if you run this code on another system, or in a different virtual environment, it may use a different parser and behave differently.\n",
      "\n",
      "To get rid of this warning, change this:\n",
      "\n",
      " BeautifulSoup([your markup])\n",
      "\n",
      "to this:\n",
      "\n",
      " BeautifulSoup([your markup], \"lxml\")\n",
      "\n",
      "  markup_type=markup_type))\n"
     ]
    }
   ],
   "source": [
    "soup = BeautifulSoup(t.text)"
   ]
  },
  {
   "cell_type": "code",
   "execution_count": 6,
   "metadata": {
    "collapsed": false
   },
   "outputs": [],
   "source": [
    "allrows=soup.find_all('tr')"
   ]
  },
  {
   "cell_type": "code",
   "execution_count": 62,
   "metadata": {
    "collapsed": false
   },
   "outputs": [],
   "source": [
    "dictn = {'rank': [], 'ryear':[], 'title':[], 'DBO':[], 'IBO':[], 'WWBO':[]}\n",
    "for arow in allrows[1:1+101-1]:\n",
    "    tds = arow.find_all('td')\n",
    "    rank = int(tds[0].text)\n",
    "    year = int(tds[1].text)\n",
    "    title = tds[2].text\n",
    "    DBO = int(tds[3].text.strip('$').replace(',',''))\n",
    "    IBO = int(tds[4].text.strip('$').replace(',',''))\n",
    "    WWBO = int(tds[5].text.strip('$').replace(',',''))\n",
    "    dictn['rank'].append(rank)\n",
    "    dictn['ryear'].append(year)\n",
    "    dictn['title'].append(title)\n",
    "    dictn['DBO'].append(DBO)\n",
    "    dictn['IBO'].append(IBO)\n",
    "    dictn['WWBO'].append(WWBO)\n",
    "                    "
   ]
  },
  {
   "cell_type": "code",
   "execution_count": 75,
   "metadata": {
    "collapsed": false
   },
   "outputs": [],
   "source": [
    "df=pd.DataFrame(dictn)"
   ]
  },
  {
   "cell_type": "code",
   "execution_count": 76,
   "metadata": {
    "collapsed": false
   },
   "outputs": [
    {
     "data": {
      "text/html": [
       "<div>\n",
       "<table border=\"1\" class=\"dataframe\">\n",
       "  <thead>\n",
       "    <tr style=\"text-align: right;\">\n",
       "      <th></th>\n",
       "      <th>DBO</th>\n",
       "      <th>IBO</th>\n",
       "      <th>WWBO</th>\n",
       "      <th>rank</th>\n",
       "      <th>ryear</th>\n",
       "      <th>title</th>\n",
       "    </tr>\n",
       "  </thead>\n",
       "  <tbody>\n",
       "    <tr>\n",
       "      <th>0</th>\n",
       "      <td>936662225</td>\n",
       "      <td>1122000000</td>\n",
       "      <td>2058662225</td>\n",
       "      <td>1</td>\n",
       "      <td>2015</td>\n",
       "      <td>Star Wars Ep. VII: The Force Awakens</td>\n",
       "    </tr>\n",
       "    <tr>\n",
       "      <th>1</th>\n",
       "      <td>760507625</td>\n",
       "      <td>2023411357</td>\n",
       "      <td>2783918982</td>\n",
       "      <td>2</td>\n",
       "      <td>2009</td>\n",
       "      <td>Avatar</td>\n",
       "    </tr>\n",
       "    <tr>\n",
       "      <th>2</th>\n",
       "      <td>658672302</td>\n",
       "      <td>1548943366</td>\n",
       "      <td>2207615668</td>\n",
       "      <td>3</td>\n",
       "      <td>1997</td>\n",
       "      <td>Titanic</td>\n",
       "    </tr>\n",
       "    <tr>\n",
       "      <th>3</th>\n",
       "      <td>652198010</td>\n",
       "      <td>1018130015</td>\n",
       "      <td>1670328025</td>\n",
       "      <td>4</td>\n",
       "      <td>2015</td>\n",
       "      <td>Jurassic World</td>\n",
       "    </tr>\n",
       "    <tr>\n",
       "      <th>4</th>\n",
       "      <td>623279547</td>\n",
       "      <td>896200000</td>\n",
       "      <td>1519479547</td>\n",
       "      <td>5</td>\n",
       "      <td>2012</td>\n",
       "      <td>The Avengers</td>\n",
       "    </tr>\n",
       "    <tr>\n",
       "      <th>5</th>\n",
       "      <td>533345358</td>\n",
       "      <td>469546000</td>\n",
       "      <td>1002891358</td>\n",
       "      <td>6</td>\n",
       "      <td>2008</td>\n",
       "      <td>The Dark Knight</td>\n",
       "    </tr>\n",
       "    <tr>\n",
       "      <th>6</th>\n",
       "      <td>483597782</td>\n",
       "      <td>467000000</td>\n",
       "      <td>950597782</td>\n",
       "      <td>7</td>\n",
       "      <td>2016</td>\n",
       "      <td>Finding Dory</td>\n",
       "    </tr>\n",
       "    <tr>\n",
       "      <th>7</th>\n",
       "      <td>474544677</td>\n",
       "      <td>552500000</td>\n",
       "      <td>1027044677</td>\n",
       "      <td>8</td>\n",
       "      <td>1999</td>\n",
       "      <td>Star Wars Ep. I: The Phantom Menace</td>\n",
       "    </tr>\n",
       "    <tr>\n",
       "      <th>8</th>\n",
       "      <td>460998007</td>\n",
       "      <td>325600000</td>\n",
       "      <td>786598007</td>\n",
       "      <td>9</td>\n",
       "      <td>1977</td>\n",
       "      <td>Star Wars Ep. IV: A New Hope</td>\n",
       "    </tr>\n",
       "    <tr>\n",
       "      <th>9</th>\n",
       "      <td>459005868</td>\n",
       "      <td>945700000</td>\n",
       "      <td>1404705868</td>\n",
       "      <td>10</td>\n",
       "      <td>2015</td>\n",
       "      <td>Avengers: Age of Ultron</td>\n",
       "    </tr>\n",
       "  </tbody>\n",
       "</table>\n",
       "</div>"
      ],
      "text/plain": [
       "         DBO         IBO        WWBO  rank  ryear  \\\n",
       "0  936662225  1122000000  2058662225     1   2015   \n",
       "1  760507625  2023411357  2783918982     2   2009   \n",
       "2  658672302  1548943366  2207615668     3   1997   \n",
       "3  652198010  1018130015  1670328025     4   2015   \n",
       "4  623279547   896200000  1519479547     5   2012   \n",
       "5  533345358   469546000  1002891358     6   2008   \n",
       "6  483597782   467000000   950597782     7   2016   \n",
       "7  474544677   552500000  1027044677     8   1999   \n",
       "8  460998007   325600000   786598007     9   1977   \n",
       "9  459005868   945700000  1404705868    10   2015   \n",
       "\n",
       "                                  title  \n",
       "0  Star Wars Ep. VII: The Force Awakens  \n",
       "1                                Avatar  \n",
       "2                               Titanic  \n",
       "3                        Jurassic World  \n",
       "4                          The Avengers  \n",
       "5                       The Dark Knight  \n",
       "6                          Finding Dory  \n",
       "7   Star Wars Ep. I: The Phantom Menace  \n",
       "8          Star Wars Ep. IV: A New Hope  \n",
       "9               Avengers: Age of Ultron  "
      ]
     },
     "execution_count": 76,
     "metadata": {},
     "output_type": "execute_result"
    }
   ],
   "source": [
    "df.head(10)"
   ]
  },
  {
   "cell_type": "code",
   "execution_count": 70,
   "metadata": {
    "collapsed": false
   },
   "outputs": [
    {
     "data": {
      "text/plain": [
       "'Connected: beyeas01@world'"
      ]
     },
     "execution_count": 70,
     "metadata": {},
     "output_type": "execute_result"
    }
   ],
   "source": [
    "%sql postgresql://beyeas01:@localhost/world"
   ]
  },
  {
   "cell_type": "code",
   "execution_count": 82,
   "metadata": {
    "collapsed": false
   },
   "outputs": [
    {
     "data": {
      "text/plain": [
       "<matplotlib.axes._subplots.AxesSubplot at 0x7f487dbfcef0>"
      ]
     },
     "execution_count": 82,
     "metadata": {},
     "output_type": "execute_result"
    },
    {
     "data": {
      "image/png": "[encoded data removed]",
      "text/plain": [
       "<matplotlib.figure.Figure at 0x7f487dc41e48>"
      ]
     },
     "metadata": {},
     "output_type": "display_data"
    }
   ],
   "source": [
    "df.plot(x = \"ryear\", y = \"DBO\", kind = \"bar\")\n"
   ]
  },
  {
   "cell_type": "code",
   "execution_count": 89,
   "metadata": {
    "collapsed": false
   },
   "outputs": [],
   "source": [
    "df.to_csv('boxoffice.csv')"
   ]
  }
 ],
 "metadata": {
  "kernelspec": {
   "display_name": "Python 3",
   "language": "python",
   "name": "python3"
  },
  "language_info": {
   "codemirror_mode": {
    "name": "ipython",
    "version": 3
   },
   "file_extension": ".py",
   "mimetype": "text/x-python",
   "name": "python",
   "nbconvert_exporter": "python",
   "pygments_lexer": "ipython3",
   "version": "3.5.1"
  }
 },
 "nbformat": 4,
 "nbformat_minor": 0
}
